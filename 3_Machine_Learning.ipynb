{
  "nbformat": 4,
  "nbformat_minor": 0,
  "metadata": {
    "colab": {
      "name": "3-Machine Learning",
      "provenance": [],
      "collapsed_sections": [],
      "toc_visible": true
    },
    "kernelspec": {
      "name": "python3",
      "display_name": "Python 3"
    }
  },
  "cells": [
    {
      "cell_type": "markdown",
      "metadata": {
        "id": "U1-Fe4KclPft",
        "colab_type": "text"
      },
      "source": [
        "# Predicting Metascore and Star-rating "
      ]
    },
    {
      "cell_type": "code",
      "metadata": {
        "id": "4HJ-IesQ3u9Y",
        "colab_type": "code",
        "colab": {}
      },
      "source": [
        "import pandas as pd\n",
        "import numpy as np\n",
        "from sklearn.neighbors import KNeighborsRegressor\n",
        "from sklearn.linear_model import LinearRegression, Lasso\n",
        "from sklearn.ensemble import StackingRegressor\n",
        "from sklearn.pipeline import make_pipeline\n",
        "from sklearn.model_selection import cross_val_score, GridSearchCV\n",
        "from sklearn.compose import make_column_transformer\n",
        "from sklearn.preprocessing import StandardScaler, MinMaxScaler, Normalizer\n",
        "from sklearn.preprocessing import OneHotEncoder\n",
        "from sklearn.preprocessing import PolynomialFeatures\n",
        "from sklearn.feature_extraction.text import TfidfVectorizer"
      ],
      "execution_count": 0,
      "outputs": []
    },
    {
      "cell_type": "code",
      "metadata": {
        "id": "mji0vfp7L2vo",
        "colab_type": "code",
        "outputId": "54c48a58-996f-4781-b4b0-0cea734d2cf4",
        "colab": {
          "base_uri": "https://localhost:8080/",
          "height": 54
        }
      },
      "source": [
        "from google.colab import drive\n",
        "drive.mount('/content/drive')"
      ],
      "execution_count": 0,
      "outputs": [
        {
          "output_type": "stream",
          "text": [
            "Drive already mounted at /content/drive; to attempt to forcibly remount, call drive.mount(\"/content/drive\", force_remount=True).\n"
          ],
          "name": "stdout"
        }
      ]
    },
    {
      "cell_type": "code",
      "metadata": {
        "id": "CYmvaiHylD2D",
        "colab_type": "code",
        "colab": {}
      },
      "source": [
        "df_movies = pd.read_csv(\"/content/drive/My Drive/DATA 301/movies.csv\")"
      ],
      "execution_count": 0,
      "outputs": []
    },
    {
      "cell_type": "code",
      "metadata": {
        "id": "AL_s6wLclJiw",
        "colab_type": "code",
        "outputId": "4614cd9b-87fc-40fa-f28a-4d16f036365f",
        "colab": {
          "base_uri": "https://localhost:8080/",
          "height": 834
        }
      },
      "source": [
        "df_no_na = df_movies.dropna()\n",
        "df_no_na.head(5)"
      ],
      "execution_count": 0,
      "outputs": [
        {
          "output_type": "execute_result",
          "data": {
            "text/html": [
              "<div>\n",
              "<style scoped>\n",
              "    .dataframe tbody tr th:only-of-type {\n",
              "        vertical-align: middle;\n",
              "    }\n",
              "\n",
              "    .dataframe tbody tr th {\n",
              "        vertical-align: top;\n",
              "    }\n",
              "\n",
              "    .dataframe thead th {\n",
              "        text-align: right;\n",
              "    }\n",
              "</style>\n",
              "<table border=\"1\" class=\"dataframe\">\n",
              "  <thead>\n",
              "    <tr style=\"text-align: right;\">\n",
              "      <th></th>\n",
              "      <th>Unnamed: 0</th>\n",
              "      <th>types</th>\n",
              "      <th>title</th>\n",
              "      <th>year</th>\n",
              "      <th>rating</th>\n",
              "      <th>runtime</th>\n",
              "      <th>genre</th>\n",
              "      <th>star-rating</th>\n",
              "      <th>metascore</th>\n",
              "      <th>description</th>\n",
              "      <th>director</th>\n",
              "      <th>cast</th>\n",
              "      <th>votes</th>\n",
              "      <th>gross</th>\n",
              "    </tr>\n",
              "  </thead>\n",
              "  <tbody>\n",
              "    <tr>\n",
              "      <th>0</th>\n",
              "      <td>0</td>\n",
              "      <td>good</td>\n",
              "      <td>The Shawshank Redemption</td>\n",
              "      <td>1994</td>\n",
              "      <td>R</td>\n",
              "      <td>142</td>\n",
              "      <td>Drama</td>\n",
              "      <td>9.3</td>\n",
              "      <td>80.0</td>\n",
              "      <td>Two imprisoned men bond over a number of y...</td>\n",
              "      <td>Frank Darabont</td>\n",
              "      <td>Tim Robbins Morgan Freeman Bob Gunton William ...</td>\n",
              "      <td>2200614</td>\n",
              "      <td>4.608596e+07</td>\n",
              "    </tr>\n",
              "    <tr>\n",
              "      <th>1</th>\n",
              "      <td>1</td>\n",
              "      <td>good</td>\n",
              "      <td>The Godfather</td>\n",
              "      <td>1972</td>\n",
              "      <td>R</td>\n",
              "      <td>175</td>\n",
              "      <td>Crime,Drama</td>\n",
              "      <td>9.2</td>\n",
              "      <td>100.0</td>\n",
              "      <td>The aging patriarch of an organized crime ...</td>\n",
              "      <td>Francis Ford Coppola</td>\n",
              "      <td>Marlon Brando Al Pacino James Caan Diane Keaton</td>\n",
              "      <td>1516232</td>\n",
              "      <td>7.763191e+08</td>\n",
              "    </tr>\n",
              "    <tr>\n",
              "      <th>2</th>\n",
              "      <td>2</td>\n",
              "      <td>good</td>\n",
              "      <td>The Dark Knight</td>\n",
              "      <td>2008</td>\n",
              "      <td>PG-13</td>\n",
              "      <td>152</td>\n",
              "      <td>Action,Crime,Drama</td>\n",
              "      <td>9.0</td>\n",
              "      <td>84.0</td>\n",
              "      <td>When the menace known as the Joker wreaks ...</td>\n",
              "      <td>Christopher Nolan</td>\n",
              "      <td>Christian Bale Heath Ledger Aaron Eckhart Mich...</td>\n",
              "      <td>2182194</td>\n",
              "      <td>5.987053e+08</td>\n",
              "    </tr>\n",
              "    <tr>\n",
              "      <th>3</th>\n",
              "      <td>3</td>\n",
              "      <td>good</td>\n",
              "      <td>The Godfather: Part II</td>\n",
              "      <td>1974</td>\n",
              "      <td>R</td>\n",
              "      <td>202</td>\n",
              "      <td>Crime,Drama</td>\n",
              "      <td>9.0</td>\n",
              "      <td>90.0</td>\n",
              "      <td>The early life and career of Vito Corleone...</td>\n",
              "      <td>Francis Ford Coppola</td>\n",
              "      <td>Al Pacino Robert De Niro Robert Duvall Diane K...</td>\n",
              "      <td>1062195</td>\n",
              "      <td>2.801075e+08</td>\n",
              "    </tr>\n",
              "    <tr>\n",
              "      <th>4</th>\n",
              "      <td>4</td>\n",
              "      <td>good</td>\n",
              "      <td>Pulp Fiction</td>\n",
              "      <td>1994</td>\n",
              "      <td>R</td>\n",
              "      <td>154</td>\n",
              "      <td>Crime,Drama</td>\n",
              "      <td>8.9</td>\n",
              "      <td>94.0</td>\n",
              "      <td>The lives of two mob hitmen, a boxer, a ga...</td>\n",
              "      <td>Quentin Tarantino</td>\n",
              "      <td>John Travolta Uma Thurman Samuel L. Jackson Br...</td>\n",
              "      <td>1729327</td>\n",
              "      <td>1.755137e+08</td>\n",
              "    </tr>\n",
              "  </tbody>\n",
              "</table>\n",
              "</div>"
            ],
            "text/plain": [
              "   Unnamed: 0 types  ...    votes         gross\n",
              "0           0  good  ...  2200614  4.608596e+07\n",
              "1           1  good  ...  1516232  7.763191e+08\n",
              "2           2  good  ...  2182194  5.987053e+08\n",
              "3           3  good  ...  1062195  2.801075e+08\n",
              "4           4  good  ...  1729327  1.755137e+08\n",
              "\n",
              "[5 rows x 14 columns]"
            ]
          },
          "metadata": {
            "tags": []
          },
          "execution_count": 84
        }
      ]
    },
    {
      "cell_type": "markdown",
      "metadata": {
        "id": "dOLwuBmDA3xk",
        "colab_type": "text"
      },
      "source": [
        "This is a pretty standardized error score method used for tuning the parameters of our pipelines a little bit better. This is used for things like proper scaling and metrics in KNearest, but used for finding the best feature sets in all of the other models, except the StackingRegressor model.\n",
        "This method returns the RMSE of the pipeline given on the feature set for the target variable y. "
      ]
    },
    {
      "cell_type": "code",
      "metadata": {
        "id": "LdEDZets4Khj",
        "colab_type": "code",
        "colab": {}
      },
      "source": [
        "def get_cv_error(feature_set, pipeline, y):\n",
        "  cv_errs = -cross_val_score(pipeline, X = df_no_na[feature_set],\n",
        "                         y = df_no_na[y],\n",
        "                         scoring = \"neg_mean_squared_error\", cv = 10)\n",
        "  return np.sqrt(cv_errs.mean())"
      ],
      "execution_count": 0,
      "outputs": []
    },
    {
      "cell_type": "markdown",
      "metadata": {
        "id": "wnWa7AenBUE-",
        "colab_type": "text"
      },
      "source": [
        "The process for determing feature sets is the same across all of our models with the exception of the Stacking Regressor. The process is pretty straightforward, pick a group of features that we think might be good candidates, look at the RMSE for the each feature set, choose the one with the lowest score, then hyper-parameter tune with GridSearchCV, then find its RMSE. "
      ]
    },
    {
      "cell_type": "code",
      "metadata": {
        "id": "-TIK50cWLjHk",
        "colab_type": "code",
        "colab": {}
      },
      "source": [
        "ct_1 = make_column_transformer(\n",
        "    (StandardScaler(), [\"votes\"]),\n",
        "    (TfidfVectorizer(norm = None, max_features = 100),\"director\"),\n",
        "    (TfidfVectorizer(norm = None, max_features = 100), \"cast\"),\n",
        "    remainder = \"drop\"\n",
        ")\n",
        "ct_2 = make_column_transformer(\n",
        "    (StandardScaler(), [\"votes\", \"year\"]),\n",
        "    (TfidfVectorizer(norm = None, max_features = 100), \"description\"),\n",
        "    remainder = \"drop\"\n",
        ")\n",
        "ct_3 = make_column_transformer(\n",
        "    (StandardScaler(), [\"votes\"]),\n",
        "    (TfidfVectorizer(norm = None, max_features = 100),\"director\"),\n",
        "    remainder = \"drop\"\n",
        ")\n",
        "ct_4 = make_column_transformer(\n",
        "    (TfidfVectorizer(norm = None, max_features = 100), \"description\",\"director\"),\n",
        "    (TfidfVectorizer(norm = None, max_features = 100), \"cast\"),\n",
        "    (OneHotEncoder(handle_unknown = \"ignore\"), [\"rating\",\"year\"]),\n",
        "    remainder = \"drop\"\n",
        ")\n",
        "ct_5 = make_column_transformer(\n",
        "    (StandardScaler(), [\"votes\"]),\n",
        "    (OneHotEncoder(handle_unknown = \"ignore\"), [\"year\"]),\n",
        "    remainder = \"drop\"\n",
        ")\n",
        "ct_6 = make_column_transformer(\n",
        "    (OneHotEncoder(handle_unknown = \"ignore\"), [\"cast\"]),\n",
        "    remainder = \"drop\"\n",
        ")\n",
        "features = []\n",
        "features.append(([\"votes\",\"director\",\"cast\"], ct_1))\n",
        "features.append(([\"votes\",\"year\",\"description\"], ct_2))\n",
        "features.append(([\"votes\",\"director\"], ct_3))\n",
        "features.append(([\"year\",\"description\",\"director\",\"cast\",\"rating\"], ct_4))\n",
        "features.append(([\"cast\"], ct_6))"
      ],
      "execution_count": 0,
      "outputs": []
    },
    {
      "cell_type": "markdown",
      "metadata": {
        "id": "2Fhn9rDGHjxe",
        "colab_type": "text"
      },
      "source": [
        "For the rest of this notebook, I will be referring critic score as metascore and user score as star-rating.    "
      ]
    },
    {
      "cell_type": "markdown",
      "metadata": {
        "id": "P86gLFAMlXuP",
        "colab_type": "text"
      },
      "source": [
        "### Linear Regression"
      ]
    },
    {
      "cell_type": "markdown",
      "metadata": {
        "id": "45ZQI_3YHvci",
        "colab_type": "text"
      },
      "source": [
        "We chose the basic Linear Regression model because we thought it would be a good baseline score for comparing to KNearest and Lasso."
      ]
    },
    {
      "cell_type": "markdown",
      "metadata": {
        "id": "4ltWo-XB8dx7",
        "colab_type": "text"
      },
      "source": [
        "For predicting metascore:"
      ]
    },
    {
      "cell_type": "code",
      "metadata": {
        "id": "eYJ-h0IQ3KUv",
        "colab_type": "code",
        "outputId": "f44297ea-ff86-4e9c-fc4c-413ee45e9df0",
        "colab": {
          "base_uri": "https://localhost:8080/",
          "height": 121
        }
      },
      "source": [
        "errs = pd.Series()\n",
        "for item in features:\n",
        "  pipeline = make_pipeline(\n",
        "      item[1],\n",
        "      LinearRegression()\n",
        "  )\n",
        "  errs[str(item[0])] = get_cv_error(item[0], pipeline, \"metascore\")\n",
        "errs"
      ],
      "execution_count": 0,
      "outputs": [
        {
          "output_type": "execute_result",
          "data": {
            "text/plain": [
              "['votes', 'director', 'cast']                            26.140410\n",
              "['votes', 'year', 'description']                         16.972168\n",
              "['votes', 'director']                                    23.785556\n",
              "['year', 'description', 'director', 'cast', 'rating']    21.334757\n",
              "['cast']                                                 26.832140\n",
              "dtype: float64"
            ]
          },
          "metadata": {
            "tags": []
          },
          "execution_count": 87
        }
      ]
    },
    {
      "cell_type": "markdown",
      "metadata": {
        "id": "0osUHgUe8ifN",
        "colab_type": "text"
      },
      "source": [
        "For predicting star-rating:"
      ]
    },
    {
      "cell_type": "code",
      "metadata": {
        "id": "44R3KrS38btB",
        "colab_type": "code",
        "outputId": "3a696d9d-e953-42b9-eea9-627f8ea80c1f",
        "colab": {
          "base_uri": "https://localhost:8080/",
          "height": 121
        }
      },
      "source": [
        "errs = pd.Series()\n",
        "for item in features:\n",
        "  pipeline = make_pipeline(\n",
        "      item[1],\n",
        "      LinearRegression()\n",
        "  )\n",
        "  errs[str(item[0])] = get_cv_error(item[0], pipeline, \"star-rating\")\n",
        "errs"
      ],
      "execution_count": 0,
      "outputs": [
        {
          "output_type": "execute_result",
          "data": {
            "text/plain": [
              "['votes', 'director', 'cast']                            1.772289\n",
              "['votes', 'year', 'description']                         0.827750\n",
              "['votes', 'director']                                    1.598924\n",
              "['year', 'description', 'director', 'cast', 'rating']    1.219480\n",
              "['cast']                                                 1.925090\n",
              "dtype: float64"
            ]
          },
          "metadata": {
            "tags": []
          },
          "execution_count": 88
        }
      ]
    },
    {
      "cell_type": "markdown",
      "metadata": {
        "id": "Z13bQ6D4B2W7",
        "colab_type": "text"
      },
      "source": [
        "In the case of the basic linear regression model, the feature set that best predicts scores for both metascore and star-rating is votes, year, and description. We only chose over the feature set as the linear model did not have any other metrics to fit, other than possibly its degree which we had a problem implementing."
      ]
    },
    {
      "cell_type": "markdown",
      "metadata": {
        "id": "WIeYoyxWC0x8",
        "colab_type": "text"
      },
      "source": [
        "The star-rating score was much lower than metascore with its RMSE being 0.827, whereas the metascore was much higher with its RMSE being 16.972. I believe that these scores were pretty good considering it was with base Linear Regression and will be a good benchmark for comparing the performance of both KNearest and Lasso models."
      ]
    },
    {
      "cell_type": "markdown",
      "metadata": {
        "id": "97peQlrZlbMf",
        "colab_type": "text"
      },
      "source": [
        "### KNearest Neighbors"
      ]
    },
    {
      "cell_type": "markdown",
      "metadata": {
        "id": "HyymJdyxDe6i",
        "colab_type": "text"
      },
      "source": [
        "We chose KNearest as it is not a linear model and uses the neighboring points for prediction. "
      ]
    },
    {
      "cell_type": "markdown",
      "metadata": {
        "id": "PiBuaHVD6tCR",
        "colab_type": "text"
      },
      "source": [
        "For predicting metascore:"
      ]
    },
    {
      "cell_type": "code",
      "metadata": {
        "id": "x2YSrKgjLKf1",
        "colab_type": "code",
        "outputId": "6ded061f-eb4b-4e56-d8ce-7e90486f5f70",
        "colab": {
          "base_uri": "https://localhost:8080/",
          "height": 121
        }
      },
      "source": [
        "errs = pd.Series()\n",
        "for item in features:\n",
        "  pipeline = make_pipeline(\n",
        "      item[1],\n",
        "      KNeighborsRegressor(n_neighbors = 20)\n",
        "  )\n",
        "  errs[str(item[0])] = get_cv_error(item[0], pipeline, \"metascore\")\n",
        "errs"
      ],
      "execution_count": 0,
      "outputs": [
        {
          "output_type": "execute_result",
          "data": {
            "text/plain": [
              "['votes', 'director', 'cast']                            21.897392\n",
              "['votes', 'year', 'description']                         19.167121\n",
              "['votes', 'director']                                    18.260756\n",
              "['year', 'description', 'director', 'cast', 'rating']    21.612831\n",
              "['cast']                                                 25.111983\n",
              "dtype: float64"
            ]
          },
          "metadata": {
            "tags": []
          },
          "execution_count": 89
        }
      ]
    },
    {
      "cell_type": "code",
      "metadata": {
        "id": "F8idI2qJNEsf",
        "colab_type": "code",
        "outputId": "aa61e79c-8e97-4824-ed42-0265cd113528",
        "colab": {
          "base_uri": "https://localhost:8080/",
          "height": 191
        }
      },
      "source": [
        "pipelines = [\n",
        "             make_pipeline(make_column_transformer(\n",
        "              (StandardScaler(), [\"votes\"]),\n",
        "              (TfidfVectorizer(norm = None, max_features = 100),\"director\"),\n",
        "              sparse_threshold = 0,\n",
        "              remainder = \"drop\"\n",
        "              ), KNeighborsRegressor(n_neighbors = 20, metric = \"euclidean\")),\n",
        "             make_pipeline(make_column_transformer(\n",
        "              (StandardScaler(), [\"votes\"]),\n",
        "              (TfidfVectorizer(norm = None, max_features = 100),\"director\"),\n",
        "              sparse_threshold = 0,\n",
        "              remainder = \"drop\"\n",
        "              ), KNeighborsRegressor(n_neighbors = 20, metric = \"manhattan\")),\n",
        "             make_pipeline(make_column_transformer(\n",
        "              (StandardScaler(), [\"votes\"]),\n",
        "              (TfidfVectorizer(norm = None, max_features = 100),\"director\"),\n",
        "              sparse_threshold = 0,\n",
        "              remainder = \"drop\"\n",
        "              ), KNeighborsRegressor(n_neighbors = 20, metric = \"minkowski\")),\n",
        "             make_pipeline(make_column_transformer(\n",
        "              (Normalizer(), [\"votes\"]),\n",
        "              (TfidfVectorizer(norm = None, max_features = 100),\"director\"),\n",
        "              sparse_threshold = 0,\n",
        "              remainder = \"drop\"\n",
        "              ), KNeighborsRegressor(n_neighbors = 20, metric = \"minkowski\")),\n",
        "             make_pipeline(make_column_transformer(\n",
        "              (Normalizer(), [\"votes\"]),\n",
        "              (TfidfVectorizer(norm = None, max_features = 100),\"director\"),\n",
        "              sparse_threshold = 0,\n",
        "              remainder = \"drop\"\n",
        "              ), KNeighborsRegressor(n_neighbors = 20, metric = \"euclidean\")),\n",
        "             make_pipeline(make_column_transformer(\n",
        "              (Normalizer(), [\"votes\"]),\n",
        "              (TfidfVectorizer(norm = None, max_features = 100),\"director\"),\n",
        "              sparse_threshold = 0,\n",
        "              remainder = \"drop\"\n",
        "              ), KNeighborsRegressor(n_neighbors = 20, metric = \"manhattan\")),\n",
        "             make_pipeline(make_column_transformer(\n",
        "              (MinMaxScaler(), [\"votes\"]),\n",
        "              (TfidfVectorizer(norm = None, max_features = 100),\"director\"),\n",
        "              sparse_threshold = 0,\n",
        "              remainder = \"drop\"\n",
        "              ), KNeighborsRegressor(n_neighbors = 20, metric = \"minkowski\")),\n",
        "             make_pipeline(make_column_transformer(\n",
        "              (MinMaxScaler(), [\"votes\"]),\n",
        "              (TfidfVectorizer(norm = None, max_features = 100),\"director\"),\n",
        "              sparse_threshold = 0,\n",
        "              remainder = \"drop\"\n",
        "              ), KNeighborsRegressor(n_neighbors = 20, metric = \"euclidean\")),\n",
        "             make_pipeline(make_column_transformer(\n",
        "              (MinMaxScaler(), [\"votes\"]),\n",
        "              (TfidfVectorizer(norm = None, max_features = 100),\"director\"),\n",
        "              sparse_threshold = 0,\n",
        "              remainder = \"drop\"\n",
        "              ), KNeighborsRegressor(n_neighbors = 20, metric = \"manhattan\"))\n",
        "             ]\n",
        "best_combos = pd.Series()\n",
        "index = 0\n",
        "\n",
        "for pipeline in pipelines:\n",
        "  best_combos[str(index)] = get_cv_error([\"votes\", \"director\"] , pipeline, \"metascore\")\n",
        "  index += 1\n",
        "best_combos"
      ],
      "execution_count": 0,
      "outputs": [
        {
          "output_type": "execute_result",
          "data": {
            "text/plain": [
              "0    18.260756\n",
              "1    18.351726\n",
              "2    18.260756\n",
              "3    31.185032\n",
              "4    31.185032\n",
              "5    31.193944\n",
              "6    18.352365\n",
              "7    18.352365\n",
              "8    18.352621\n",
              "dtype: float64"
            ]
          },
          "metadata": {
            "tags": []
          },
          "execution_count": 90
        }
      ]
    },
    {
      "cell_type": "code",
      "metadata": {
        "id": "VzQGDMwf6jEK",
        "colab_type": "code",
        "outputId": "ff960d68-fe90-475e-aedc-4e53e5a10071",
        "colab": {
          "base_uri": "https://localhost:8080/",
          "height": 34
        }
      },
      "source": [
        "from sklearn.model_selection import GridSearchCV\n",
        "\n",
        "X_train = df_no_na[[\"votes\", \"director\"]]\n",
        "y_train = df_no_na[\"metascore\"]\n",
        "\n",
        "pipeline =   make_pipeline(make_column_transformer(\n",
        "              (StandardScaler(), [\"votes\"]),\n",
        "              (TfidfVectorizer(norm = None, max_features = 100),\"director\"),\n",
        "              sparse_threshold = 0,\n",
        "              remainder = \"drop\"\n",
        "              ), KNeighborsRegressor(n_neighbors = 20, metric = \"euclidean\"))\n",
        "\n",
        "grid_search = GridSearchCV(\n",
        "    pipeline,\n",
        "    param_grid={\"kneighborsregressor__n_neighbors\": range(1, 50)},\n",
        "    scoring=\"neg_mean_squared_error\",\n",
        "    return_train_score = True,\n",
        "    cv=10\n",
        ")\n",
        "\n",
        "grid_search.fit(X_train, y_train)\n",
        "grid_search.best_params_"
      ],
      "execution_count": 0,
      "outputs": [
        {
          "output_type": "execute_result",
          "data": {
            "text/plain": [
              "{'kneighborsregressor__n_neighbors': 29}"
            ]
          },
          "metadata": {
            "tags": []
          },
          "execution_count": 91
        }
      ]
    },
    {
      "cell_type": "code",
      "metadata": {
        "id": "Ps-5TXbQ6mE8",
        "colab_type": "code",
        "outputId": "67075e93-53b3-4112-bd6f-fd57b2e0287d",
        "colab": {
          "base_uri": "https://localhost:8080/",
          "height": 34
        }
      },
      "source": [
        "pipeline =   make_pipeline(make_column_transformer(\n",
        "              (StandardScaler(), [\"votes\"]),\n",
        "              (TfidfVectorizer(norm = None, max_features = 100),\"director\"),\n",
        "              sparse_threshold = 0,\n",
        "              remainder = \"drop\"\n",
        "              ), KNeighborsRegressor(n_neighbors = 29, metric = \"euclidean\"))\n",
        "get_cv_error([\"votes\", \"director\"], pipeline, \"metascore\")"
      ],
      "execution_count": 0,
      "outputs": [
        {
          "output_type": "execute_result",
          "data": {
            "text/plain": [
              "18.015947032521122"
            ]
          },
          "metadata": {
            "tags": []
          },
          "execution_count": 92
        }
      ]
    },
    {
      "cell_type": "code",
      "metadata": {
        "id": "d9puKDUp6op5",
        "colab_type": "code",
        "outputId": "ad7466bc-129c-4650-db00-839813a546fb",
        "colab": {
          "base_uri": "https://localhost:8080/",
          "height": 282
        }
      },
      "source": [
        "test_score = pd.Series(grid_search.cv_results_[\"mean_test_score\"])\n",
        "train_score = pd.Series(grid_search.cv_results_[\"mean_train_score\"])\n",
        "train_score.plot.line( label = \"Training Score\", legend =True)\n",
        "test_score.plot.line(label = \"Testing Error\", legend = True)\n"
      ],
      "execution_count": 0,
      "outputs": [
        {
          "output_type": "execute_result",
          "data": {
            "text/plain": [
              "<matplotlib.axes._subplots.AxesSubplot at 0x7f7a2dbc7710>"
            ]
          },
          "metadata": {
            "tags": []
          },
          "execution_count": 93
        },
        {
          "output_type": "display_data",
          "data": {
            "image/png": "[encoded data removed]",
            "text/plain": [
              "<Figure size 432x288 with 1 Axes>"
            ]
          },
          "metadata": {
            "tags": []
          }
        }
      ]
    },
    {
      "cell_type": "markdown",
      "metadata": {
        "id": "XQRVbxFD6z-9",
        "colab_type": "text"
      },
      "source": [
        "For predicting star-rating:"
      ]
    },
    {
      "cell_type": "code",
      "metadata": {
        "id": "1xhhpQn9NuCb",
        "colab_type": "code",
        "outputId": "3bf10cfb-d2a1-4fa0-c81e-157cb37a2e02",
        "colab": {
          "base_uri": "https://localhost:8080/",
          "height": 121
        }
      },
      "source": [
        "for item in features:\n",
        "  pipeline = make_pipeline(\n",
        "      item[1],\n",
        "      KNeighborsRegressor(n_neighbors = 20)\n",
        "  )\n",
        "  errs[str(item[0])] = get_cv_error(item[0], pipeline, \"star-rating\")\n",
        "errs"
      ],
      "execution_count": 0,
      "outputs": [
        {
          "output_type": "execute_result",
          "data": {
            "text/plain": [
              "['votes', 'director', 'cast']                            1.452213\n",
              "['votes', 'year', 'description']                         1.110817\n",
              "['votes', 'director']                                    1.199317\n",
              "['year', 'description', 'director', 'cast', 'rating']    1.349975\n",
              "['cast']                                                 1.733436\n",
              "dtype: float64"
            ]
          },
          "metadata": {
            "tags": []
          },
          "execution_count": 94
        }
      ]
    },
    {
      "cell_type": "code",
      "metadata": {
        "id": "wmA5nVn_N1gc",
        "colab_type": "code",
        "outputId": "0699b601-3844-451f-b31e-6863a581ac4f",
        "colab": {
          "base_uri": "https://localhost:8080/",
          "height": 191
        }
      },
      "source": [
        "pipelines = [\n",
        "             make_pipeline(make_column_transformer(\n",
        "              (StandardScaler(), [\"votes\",\"year\"]),\n",
        "              (TfidfVectorizer(norm = None, max_features = 100), \"description\"),\n",
        "              sparse_threshold = 0,\n",
        "              remainder = \"drop\"\n",
        "              ), KNeighborsRegressor(n_neighbors = 20, metric = \"euclidean\")),\n",
        "             make_pipeline(make_column_transformer(\n",
        "              (StandardScaler(), [\"votes\",\"year\"]),\n",
        "              (TfidfVectorizer(norm = None, max_features = 100), \"description\"),\n",
        "              sparse_threshold = 0,\n",
        "              remainder = \"drop\"\n",
        "              ), KNeighborsRegressor(n_neighbors = 20, metric = \"manhattan\")),\n",
        "             make_pipeline(make_column_transformer(\n",
        "              (StandardScaler(), [\"votes\",\"year\"]),\n",
        "              (TfidfVectorizer(norm = None, max_features = 100), \"description\"),\n",
        "              sparse_threshold = 0,\n",
        "              remainder = \"drop\"\n",
        "              ), KNeighborsRegressor(n_neighbors = 20, metric = \"minkowski\")),\n",
        "             make_pipeline(make_column_transformer(\n",
        "              (Normalizer(), [\"votes\",\"year\"]),\n",
        "              (TfidfVectorizer(norm = None, max_features = 100), \"description\"),\n",
        "              sparse_threshold = 0,\n",
        "              remainder = \"drop\"\n",
        "              ), KNeighborsRegressor(n_neighbors = 20, metric = \"minkowski\")),\n",
        "             make_pipeline(make_column_transformer(\n",
        "              (Normalizer(), [\"votes\",\"year\"]),\n",
        "              (TfidfVectorizer(norm = None, max_features = 100), \"description\"),\n",
        "              sparse_threshold = 0,\n",
        "              remainder = \"drop\"\n",
        "              ), KNeighborsRegressor(n_neighbors = 20, metric = \"euclidean\")),\n",
        "             make_pipeline(make_column_transformer(\n",
        "              (Normalizer(), [\"votes\",\"year\"]),\n",
        "              (TfidfVectorizer(norm = None, max_features = 100), \"description\"),\n",
        "              sparse_threshold = 0,\n",
        "              remainder = \"drop\"\n",
        "              ), KNeighborsRegressor(n_neighbors = 20, metric = \"manhattan\")),\n",
        "             make_pipeline(make_column_transformer(\n",
        "              (MinMaxScaler(), [\"votes\",\"year\"]),\n",
        "              (TfidfVectorizer(norm = None, max_features = 100), \"description\"),\n",
        "              sparse_threshold = 0,\n",
        "              remainder = \"drop\"\n",
        "              ), KNeighborsRegressor(n_neighbors = 20, metric = \"minkowski\")),\n",
        "             make_pipeline(make_column_transformer(\n",
        "              (MinMaxScaler(), [\"votes\",\"year\"]),\n",
        "              (TfidfVectorizer(norm = None, max_features = 100), \"description\"),\n",
        "              sparse_threshold = 0,\n",
        "              remainder = \"drop\"\n",
        "              ), KNeighborsRegressor(n_neighbors = 20, metric = \"euclidean\")),\n",
        "             make_pipeline(make_column_transformer(\n",
        "              (MinMaxScaler(), [\"votes\",\"year\"]),\n",
        "              (TfidfVectorizer(norm = None, max_features = 100), \"description\"),\n",
        "              sparse_threshold = 0,\n",
        "              remainder = \"drop\"\n",
        "              ), KNeighborsRegressor(n_neighbors = 20, metric = \"manhattan\"))\n",
        "             ]\n",
        "best_combos = pd.Series()\n",
        "index = 0\n",
        "for pipeline in pipelines:\n",
        "  best_combos[str(index)] = get_cv_error([\"votes\",\"year\",\"description\"] ,pipeline ,\"star-rating\")\n",
        "  index += 1\n",
        "best_combos"
      ],
      "execution_count": 0,
      "outputs": [
        {
          "output_type": "execute_result",
          "data": {
            "text/plain": [
              "0    1.110817\n",
              "1    1.107499\n",
              "2    1.110817\n",
              "3    1.219858\n",
              "4    1.219858\n",
              "5    1.194519\n",
              "6    1.215897\n",
              "7    1.215897\n",
              "8    1.174526\n",
              "dtype: float64"
            ]
          },
          "metadata": {
            "tags": []
          },
          "execution_count": 95
        }
      ]
    },
    {
      "cell_type": "code",
      "metadata": {
        "id": "H0sU4fcw7Ayt",
        "colab_type": "code",
        "outputId": "f2ef3f14-2154-4fc7-811d-45eeff32da42",
        "colab": {
          "base_uri": "https://localhost:8080/",
          "height": 34
        }
      },
      "source": [
        "from sklearn.model_selection import GridSearchCV\n",
        "\n",
        "X_train = df_no_na[[\"votes\",\"year\",\"description\"]]\n",
        "y_train = df_no_na[\"star-rating\"]\n",
        "\n",
        "pipeline =  make_pipeline(make_column_transformer(\n",
        "              (StandardScaler(), [\"votes\",\"year\"]),\n",
        "              (TfidfVectorizer(norm = None, max_features = 100), \"description\"),\n",
        "              sparse_threshold = 0,\n",
        "              remainder = \"drop\"\n",
        "              ), KNeighborsRegressor(n_neighbors = 20, metric = \"manhattan\"))\n",
        "\n",
        "grid_search = GridSearchCV(\n",
        "    pipeline,\n",
        "    param_grid={\"kneighborsregressor__n_neighbors\": range(1, 50)},\n",
        "    scoring=\"neg_mean_squared_error\",\n",
        "    return_train_score = True,\n",
        "    cv=10\n",
        ")\n",
        "\n",
        "grid_search.fit(X_train, y_train)\n",
        "grid_search.best_params_"
      ],
      "execution_count": 0,
      "outputs": [
        {
          "output_type": "execute_result",
          "data": {
            "text/plain": [
              "{'kneighborsregressor__n_neighbors': 10}"
            ]
          },
          "metadata": {
            "tags": []
          },
          "execution_count": 96
        }
      ]
    },
    {
      "cell_type": "code",
      "metadata": {
        "id": "l1cGOe4H7DOw",
        "colab_type": "code",
        "outputId": "993daa7f-6409-474b-ecb1-e7c564b28945",
        "colab": {
          "base_uri": "https://localhost:8080/",
          "height": 34
        }
      },
      "source": [
        "pipeline =   make_pipeline(make_column_transformer(\n",
        "              (StandardScaler(), [\"votes\", \"year\"]),\n",
        "              (TfidfVectorizer(norm = None, max_features = 100),\"description\"),\n",
        "              sparse_threshold = 0,\n",
        "              remainder = \"drop\"\n",
        "              ), KNeighborsRegressor(n_neighbors = 10, metric = \"euclidean\"))\n",
        "get_cv_error([\"votes\", \"year\", \"description\"], pipeline, \"star-rating\")"
      ],
      "execution_count": 0,
      "outputs": [
        {
          "output_type": "execute_result",
          "data": {
            "text/plain": [
              "1.0646479445815125"
            ]
          },
          "metadata": {
            "tags": []
          },
          "execution_count": 97
        }
      ]
    },
    {
      "cell_type": "code",
      "metadata": {
        "id": "HxSvILuz7Fw6",
        "colab_type": "code",
        "outputId": "c65eb36b-f279-41d1-86cc-7839014b9328",
        "colab": {
          "base_uri": "https://localhost:8080/",
          "height": 282
        }
      },
      "source": [
        "test_score = pd.Series(grid_search.cv_results_[\"mean_test_score\"])\n",
        "train_score = pd.Series(grid_search.cv_results_[\"mean_train_score\"])\n",
        "train_score.plot.line(label = \"Training Score\", legend = True)\n",
        "test_score.plot.line(label = \"Testing Error\", legend = True)"
      ],
      "execution_count": 0,
      "outputs": [
        {
          "output_type": "execute_result",
          "data": {
            "text/plain": [
              "<matplotlib.axes._subplots.AxesSubplot at 0x7f7a2ddfd4e0>"
            ]
          },
          "metadata": {
            "tags": []
          },
          "execution_count": 98
        },
        {
          "output_type": "display_data",
          "data": {
            "image/png": "[encoded data removed]",
            "text/plain": [
              "<Figure size 432x288 with 1 Axes>"
            ]
          },
          "metadata": {
            "tags": []
          }
        }
      ]
    },
    {
      "cell_type": "markdown",
      "metadata": {
        "id": "BJzr-r4qOERE",
        "colab_type": "text"
      },
      "source": [
        "In K-Nearest we see that we have different feature sets for metascore and star-rating. The feature set that we should use for metascore was based off of the votes and description that a movie has. Whereas the star-rating followed the set of features that linear regression had.  "
      ]
    },
    {
      "cell_type": "markdown",
      "metadata": {
        "id": "viVlwgIeO6Uv",
        "colab_type": "text"
      },
      "source": [
        "KNearest does not outperform the linear regression model in either case, but is relatively close to the same performance of it. The best RMSEs were 18.015(metascore) and 1.064(star-rating). "
      ]
    },
    {
      "cell_type": "markdown",
      "metadata": {
        "id": "5elKrwtCPSiC",
        "colab_type": "text"
      },
      "source": [
        "I believe the lack in performance of this model could be because of the grouping of the data being very clustered, where a lot of good movies were near each other and a lot of the bad and mediocre movies were grouped near each other."
      ]
    },
    {
      "cell_type": "markdown",
      "metadata": {
        "id": "jWdFJNnR3FeO",
        "colab_type": "text"
      },
      "source": [
        "### Lasso Regression"
      ]
    },
    {
      "cell_type": "markdown",
      "metadata": {
        "id": "g0xu6Wv5Pno8",
        "colab_type": "text"
      },
      "source": [
        "We chose Lasso as our last individual model, while it is still a linear model we chose it as it uses a method of shrinking the value to a central point like the mean to make a prediction.  "
      ]
    },
    {
      "cell_type": "markdown",
      "metadata": {
        "id": "hat-E5ch9fXT",
        "colab_type": "text"
      },
      "source": [
        "For predicting metascore:"
      ]
    },
    {
      "cell_type": "code",
      "metadata": {
        "id": "yiFBsDLu3LGC",
        "colab_type": "code",
        "outputId": "d6b2eaf7-3018-46fd-d560-fdc0556ab44c",
        "colab": {
          "base_uri": "https://localhost:8080/",
          "height": 121
        }
      },
      "source": [
        "\n",
        "errs = pd.Series()\n",
        "for item in features:\n",
        "  pipeline = make_pipeline(\n",
        "      item[1],\n",
        "      Lasso()\n",
        "  )\n",
        "  errs[str(item[0])] = get_cv_error(item[0], pipeline, \"metascore\")\n",
        "errs"
      ],
      "execution_count": 0,
      "outputs": [
        {
          "output_type": "execute_result",
          "data": {
            "text/plain": [
              "['votes', 'director', 'cast']                            22.650442\n",
              "['votes', 'year', 'description']                         15.215518\n",
              "['votes', 'director']                                    22.671416\n",
              "['year', 'description', 'director', 'cast', 'rating']    19.118769\n",
              "['cast']                                                 26.833931\n",
              "dtype: float64"
            ]
          },
          "metadata": {
            "tags": []
          },
          "execution_count": 99
        }
      ]
    },
    {
      "cell_type": "code",
      "metadata": {
        "id": "tl1HIbGS9ysy",
        "colab_type": "code",
        "outputId": "58e6bfb5-d1e9-48db-c3fe-2016e74aeb0e",
        "colab": {
          "base_uri": "https://localhost:8080/",
          "height": 34
        }
      },
      "source": [
        "X_train = df_no_na[[\"votes\", \"year\", \"description\"]]\n",
        "y_train = df_no_na[\"metascore\"]\n",
        "lasso_params = {'lasso__alpha': np.arange(1, 5, 0.1)}\n",
        "\n",
        "\n",
        "pipeline =   make_pipeline(\n",
        "    ct_2, Lasso())\n",
        "\n",
        "grid_search = GridSearchCV(\n",
        "    pipeline,\n",
        "    param_grid=lasso_params,\n",
        "    scoring=\"neg_mean_squared_error\",\n",
        "    return_train_score = True,\n",
        "    cv=10\n",
        ")\n",
        "\n",
        "grid_search.fit(X_train, y_train)\n",
        "grid_search.best_params_"
      ],
      "execution_count": 0,
      "outputs": [
        {
          "output_type": "execute_result",
          "data": {
            "text/plain": [
              "{'lasso__alpha': 1.4000000000000004}"
            ]
          },
          "metadata": {
            "tags": []
          },
          "execution_count": 100
        }
      ]
    },
    {
      "cell_type": "code",
      "metadata": {
        "id": "-4-a_U1U9zFw",
        "colab_type": "code",
        "outputId": "f2d90b1f-6461-455b-8a3b-07649d33d3ce",
        "colab": {
          "base_uri": "https://localhost:8080/",
          "height": 34
        }
      },
      "source": [
        "pipeline =   make_pipeline(ct_2, Lasso(alpha= 1.4))\n",
        "get_cv_error([\"votes\", \"year\", \"description\"], pipeline, \"metascore\")"
      ],
      "execution_count": 0,
      "outputs": [
        {
          "output_type": "execute_result",
          "data": {
            "text/plain": [
              "15.157928650158905"
            ]
          },
          "metadata": {
            "tags": []
          },
          "execution_count": 101
        }
      ]
    },
    {
      "cell_type": "code",
      "metadata": {
        "id": "Ybg_FiNk90_e",
        "colab_type": "code",
        "outputId": "e3e4a33a-35b3-41d9-d88a-693829fd887c",
        "colab": {
          "base_uri": "https://localhost:8080/",
          "height": 282
        }
      },
      "source": [
        "test_score = pd.Series(grid_search.cv_results_[\"mean_test_score\"])\n",
        "train_score = pd.Series(grid_search.cv_results_[\"mean_train_score\"])\n",
        "train_score.plot.line(label = \"Training Score\", legend = True)\n",
        "test_score.plot.line(label = \"Testing Error\", legend = True)"
      ],
      "execution_count": 0,
      "outputs": [
        {
          "output_type": "execute_result",
          "data": {
            "text/plain": [
              "<matplotlib.axes._subplots.AxesSubplot at 0x7f7a2e820ac8>"
            ]
          },
          "metadata": {
            "tags": []
          },
          "execution_count": 102
        },
        {
          "output_type": "display_data",
          "data": {
            "image/png": "[encoded data removed]",
            "text/plain": [
              "<Figure size 432x288 with 1 Axes>"
            ]
          },
          "metadata": {
            "tags": []
          }
        }
      ]
    },
    {
      "cell_type": "markdown",
      "metadata": {
        "id": "OOwC09999jje",
        "colab_type": "text"
      },
      "source": [
        "For predicting star-rating"
      ]
    },
    {
      "cell_type": "code",
      "metadata": {
        "id": "H_ZyFY4M9lOA",
        "colab_type": "code",
        "outputId": "ff78148e-c751-4bc8-a898-aff8ca84d91b",
        "colab": {
          "base_uri": "https://localhost:8080/",
          "height": 121
        }
      },
      "source": [
        "\n",
        "errs = pd.Series()\n",
        "for item in features:\n",
        "  pipeline = make_pipeline(\n",
        "      item[1],\n",
        "      Lasso()\n",
        "  )\n",
        "  errs[str(item[0])] = get_cv_error(item[0], pipeline, \"star-rating\")\n",
        "errs"
      ],
      "execution_count": 0,
      "outputs": [
        {
          "output_type": "execute_result",
          "data": {
            "text/plain": [
              "['votes', 'director', 'cast']                            1.869855\n",
              "['votes', 'year', 'description']                         1.588054\n",
              "['votes', 'director']                                    1.869855\n",
              "['year', 'description', 'director', 'cast', 'rating']    1.588054\n",
              "['cast']                                                 1.931059\n",
              "dtype: float64"
            ]
          },
          "metadata": {
            "tags": []
          },
          "execution_count": 103
        }
      ]
    },
    {
      "cell_type": "code",
      "metadata": {
        "id": "ZsSU5VQg99VY",
        "colab_type": "code",
        "outputId": "2ffcaf73-6d00-4afc-da70-52f361e82a52",
        "colab": {
          "base_uri": "https://localhost:8080/",
          "height": 34
        }
      },
      "source": [
        "X_train = df_no_na[[\"votes\", \"year\", \"description\"]]\n",
        "y_train = df_no_na[\"star-rating\"]\n",
        "lasso_params = {'lasso__alpha':np.arange(1, 5, 0.1)}\n",
        "\n",
        "pipeline =   make_pipeline(ct_2, Lasso())\n",
        "\n",
        "grid_search = GridSearchCV(\n",
        "    pipeline,\n",
        "    param_grid=lasso_params,\n",
        "    scoring=\"neg_mean_squared_error\",\n",
        "    return_train_score = True,\n",
        "    cv=10\n",
        ")\n",
        "\n",
        "grid_search.fit(X_train, y_train)\n",
        "grid_search.best_params_"
      ],
      "execution_count": 0,
      "outputs": [
        {
          "output_type": "execute_result",
          "data": {
            "text/plain": [
              "{'lasso__alpha': 1.0}"
            ]
          },
          "metadata": {
            "tags": []
          },
          "execution_count": 104
        }
      ]
    },
    {
      "cell_type": "code",
      "metadata": {
        "id": "LjZ9UrDv9_T9",
        "colab_type": "code",
        "outputId": "aef8ff98-487d-4f17-e780-60e3da23ce68",
        "colab": {
          "base_uri": "https://localhost:8080/",
          "height": 34
        }
      },
      "source": [
        "pipeline =   make_pipeline(ct_2, Lasso(alpha= 1))\n",
        "get_cv_error([\"votes\", \"year\", \"description\"], pipeline, \"star-rating\")"
      ],
      "execution_count": 0,
      "outputs": [
        {
          "output_type": "execute_result",
          "data": {
            "text/plain": [
              "1.5880539611204736"
            ]
          },
          "metadata": {
            "tags": []
          },
          "execution_count": 105
        }
      ]
    },
    {
      "cell_type": "code",
      "metadata": {
        "id": "tVbqN0UQ-A5O",
        "colab_type": "code",
        "outputId": "c57b2ac3-e659-4c85-9b76-34761cbeb19e",
        "colab": {
          "base_uri": "https://localhost:8080/",
          "height": 282
        }
      },
      "source": [
        "test_score = pd.Series(grid_search.cv_results_[\"mean_test_score\"])\n",
        "train_score = pd.Series(grid_search.cv_results_[\"mean_train_score\"])\n",
        "train_score.plot.line(label = \"Training Score\", legend = True)\n",
        "test_score.plot.line(label = \"Testing Error\", legend = True)"
      ],
      "execution_count": 0,
      "outputs": [
        {
          "output_type": "execute_result",
          "data": {
            "text/plain": [
              "<matplotlib.axes._subplots.AxesSubplot at 0x7f7a2dec8080>"
            ]
          },
          "metadata": {
            "tags": []
          },
          "execution_count": 106
        },
        {
          "output_type": "display_data",
          "data": {
            "image/png": "[encoded data removed]",
            "text/plain": [
              "<Figure size 432x288 with 1 Axes>"
            ]
          },
          "metadata": {
            "tags": []
          }
        }
      ]
    },
    {
      "cell_type": "markdown",
      "metadata": {
        "id": "MxL6Rve6Raay",
        "colab_type": "text"
      },
      "source": [
        "In the Lasso regressor, the best feature sets to choose are the same as Linear Regression. However, the performance of each variable either do better than Linear or worse than Linear and KNearest."
      ]
    },
    {
      "cell_type": "markdown",
      "metadata": {
        "id": "Z3XMYNj9SKMx",
        "colab_type": "text"
      },
      "source": [
        "In the case of metascore, it does better than all previous models scoring around 15.215. In the case of star-rating, we see a performance drop with its best RMSE being 1.588."
      ]
    },
    {
      "cell_type": "markdown",
      "metadata": {
        "id": "VnHB8GZ-lbUm",
        "colab_type": "text"
      },
      "source": [
        "### Stacking Regressor"
      ]
    },
    {
      "cell_type": "markdown",
      "metadata": {
        "id": "P4lYkbuySjmo",
        "colab_type": "text"
      },
      "source": [
        "Now we want to combine the best score to see if we get a better score out by using a Stacking Regressor. To choose what went in to this model, we chose the top two scoring models and put them into the stacking regressor and made the final estimator the estimator that scored lower."
      ]
    },
    {
      "cell_type": "markdown",
      "metadata": {
        "id": "Fm0wwor5-Ntq",
        "colab_type": "text"
      },
      "source": [
        "For predicting metascore, we chose the Linear model and the lasso model with Lasso being the final estimator."
      ]
    },
    {
      "cell_type": "code",
      "metadata": {
        "id": "PNuXa-7L-Pb5",
        "colab_type": "code",
        "outputId": "e1d7b8f3-92b5-426a-b00a-bfe56273003a",
        "colab": {
          "base_uri": "https://localhost:8080/",
          "height": 34
        }
      },
      "source": [
        "X_train = df_no_na[[\"votes\", \"year\", \"description\"]]\n",
        "y_train = df_no_na[\"metascore\"]\n",
        "metascore_stacking = StackingRegressor(\n",
        "    [(\"linear\", make_pipeline(make_column_transformer(\n",
        "    (StandardScaler(), [\"votes\", \"year\"]),\n",
        "    (TfidfVectorizer(norm = None, max_features = 100), \"description\"),\n",
        "    remainder = \"drop\"\n",
        "), LinearRegression())),\n",
        "(\"lasso\", make_pipeline(make_column_transformer(\n",
        "    (StandardScaler(), [\"votes\",\"year\"]),\n",
        "    (TfidfVectorizer(norm = None, max_features = 100), \"description\"),\n",
        "    remainder = \"drop\"\n",
        "), Lasso(alpha = 1.4)))], final_estimator = Lasso(alpha = 1.4))\n",
        "np.sqrt(-cross_val_score(metascore_stacking, X=X_train, y=y_train, cv=5,\n",
        "                 scoring=\"neg_mean_squared_error\").mean())"
      ],
      "execution_count": 0,
      "outputs": [
        {
          "output_type": "execute_result",
          "data": {
            "text/plain": [
              "16.040698393071896"
            ]
          },
          "metadata": {
            "tags": []
          },
          "execution_count": 107
        }
      ]
    },
    {
      "cell_type": "markdown",
      "metadata": {
        "id": "61qrBm2R-QpI",
        "colab_type": "text"
      },
      "source": [
        "For predicting star-rating, we chose K-Nearest and Linear Regression with Linear Regression being the final estimator."
      ]
    },
    {
      "cell_type": "code",
      "metadata": {
        "id": "YnprKmlw-SV-",
        "colab_type": "code",
        "outputId": "e99957a7-0caa-4057-8d18-4af2eea0879d",
        "colab": {
          "base_uri": "https://localhost:8080/",
          "height": 34
        }
      },
      "source": [
        "y_train = df_no_na[\"star-rating\"]\n",
        "star_rating_stacking = StackingRegressor(\n",
        "    [(\"knearest\", make_pipeline(make_column_transformer(\n",
        "              (StandardScaler(), [\"votes\",\"year\"]),\n",
        "              (TfidfVectorizer(norm = None, max_features = 100), \"description\"),\n",
        "              sparse_threshold = 0,\n",
        "              remainder = \"drop\"\n",
        "              ), KNeighborsRegressor(n_neighbors = 20, metric = \"manhattan\"))),\n",
        "     (\"linear\", make_pipeline(make_column_transformer(\n",
        "    (StandardScaler(), [\"votes\",\"year\"]),\n",
        "    (TfidfVectorizer(norm = None, max_features = 100), \"description\"),\n",
        "    remainder = \"drop\"\n",
        "), LinearRegression()))\n",
        "     ], final_estimator = LinearRegression())\n",
        "np.sqrt(-cross_val_score(star_rating_stacking, X=X_train, y=y_train, cv=5,\n",
        "                 scoring=\"neg_mean_squared_error\").mean())"
      ],
      "execution_count": 0,
      "outputs": [
        {
          "output_type": "execute_result",
          "data": {
            "text/plain": [
              "1.2858672168908876"
            ]
          },
          "metadata": {
            "tags": []
          },
          "execution_count": 108
        }
      ]
    },
    {
      "cell_type": "markdown",
      "metadata": {
        "id": "ehSJqHmaTlUQ",
        "colab_type": "text"
      },
      "source": [
        "In both cases, the result was either worse than it was before combining or in the middle of the two models, which was not what were hoping for."
      ]
    },
    {
      "cell_type": "markdown",
      "metadata": {
        "id": "bqu0yqe42evW",
        "colab_type": "text"
      },
      "source": [
        "### Best Model Predicting"
      ]
    },
    {
      "cell_type": "markdown",
      "metadata": {
        "id": "k7ZRrB3t6j0b",
        "colab_type": "text"
      },
      "source": [
        "Movie: The Greatest Showman"
      ]
    },
    {
      "cell_type": "code",
      "metadata": {
        "id": "wssW_6dG2hlP",
        "colab_type": "code",
        "outputId": "18fc3850-5173-44ab-e7f9-1fd9dddbee41",
        "colab": {
          "base_uri": "https://localhost:8080/",
          "height": 81
        }
      },
      "source": [
        "linear = make_pipeline(make_column_transformer(\n",
        "    (StandardScaler(), [\"votes\",\"year\"]),\n",
        "    (TfidfVectorizer(norm = None, max_features = 100), \"description\"),\n",
        "    remainder = \"drop\"\n",
        "), LinearRegression())\n",
        "df_greatest = pd.DataFrame([[215597, 2017, \"Celebrates the birth of show business and tells of a visionary who rose from nothing to create a spectacle that became a worldwide sensation. \"]], columns = [\"votes\", \"year\", \"description\"])\n",
        "df_greatest"
      ],
      "execution_count": 0,
      "outputs": [
        {
          "output_type": "execute_result",
          "data": {
            "text/html": [
              "<div>\n",
              "<style scoped>\n",
              "    .dataframe tbody tr th:only-of-type {\n",
              "        vertical-align: middle;\n",
              "    }\n",
              "\n",
              "    .dataframe tbody tr th {\n",
              "        vertical-align: top;\n",
              "    }\n",
              "\n",
              "    .dataframe thead th {\n",
              "        text-align: right;\n",
              "    }\n",
              "</style>\n",
              "<table border=\"1\" class=\"dataframe\">\n",
              "  <thead>\n",
              "    <tr style=\"text-align: right;\">\n",
              "      <th></th>\n",
              "      <th>votes</th>\n",
              "      <th>year</th>\n",
              "      <th>description</th>\n",
              "    </tr>\n",
              "  </thead>\n",
              "  <tbody>\n",
              "    <tr>\n",
              "      <th>0</th>\n",
              "      <td>215597</td>\n",
              "      <td>2017</td>\n",
              "      <td>Celebrates the birth of show business and tell...</td>\n",
              "    </tr>\n",
              "  </tbody>\n",
              "</table>\n",
              "</div>"
            ],
            "text/plain": [
              "    votes  year                                        description\n",
              "0  215597  2017  Celebrates the birth of show business and tell..."
            ]
          },
          "metadata": {
            "tags": []
          },
          "execution_count": 133
        }
      ]
    },
    {
      "cell_type": "code",
      "metadata": {
        "id": "qieQIce52hzx",
        "colab_type": "code",
        "outputId": "0ab74eb2-aabe-4373-baf6-8aac8750e7b7",
        "colab": {
          "base_uri": "https://localhost:8080/",
          "height": 34
        }
      },
      "source": [
        "linear.fit(X = X_train, y = df_no_na[[\"star-rating\"]])\n",
        "linear.predict(X = df_test[[\"votes\", \"year\", \"description\"]])\n"
      ],
      "execution_count": 0,
      "outputs": [
        {
          "output_type": "execute_result",
          "data": {
            "text/plain": [
              "array([[6.2655347]])"
            ]
          },
          "metadata": {
            "tags": []
          },
          "execution_count": 134
        }
      ]
    },
    {
      "cell_type": "markdown",
      "metadata": {
        "id": "mJ6-tVZ7Dnff",
        "colab_type": "text"
      },
      "source": [
        "The model predicts that the movie would have a star-rating of 6.26, when in reality it has a rating of 7.6."
      ]
    },
    {
      "cell_type": "code",
      "metadata": {
        "id": "ZSLMRgOvD6rR",
        "colab_type": "code",
        "colab": {}
      },
      "source": [
        "y_train = df_no_na[\"metascore\"]\n",
        "lasso = make_pipeline(make_column_transformer(\n",
        "    (StandardScaler(), [\"votes\",\"year\"]),\n",
        "    (TfidfVectorizer(norm = None, max_features = 100), \"description\"),\n",
        "    remainder = \"drop\"\n",
        "), Lasso(alpha = 1.4))"
      ],
      "execution_count": 0,
      "outputs": []
    },
    {
      "cell_type": "code",
      "metadata": {
        "id": "d3M1Ga47EQ-r",
        "colab_type": "code",
        "outputId": "2088aadb-4be7-4983-d3f0-1073c07d7893",
        "colab": {
          "base_uri": "https://localhost:8080/",
          "height": 34
        }
      },
      "source": [
        "lasso.fit(X = X_train, y = y_train)\n",
        "lasso.predict(X = df_test[[\"votes\", \"year\", \"description\"]])"
      ],
      "execution_count": 0,
      "outputs": [
        {
          "output_type": "execute_result",
          "data": {
            "text/plain": [
              "array([49.17651939])"
            ]
          },
          "metadata": {
            "tags": []
          },
          "execution_count": 136
        }
      ]
    },
    {
      "cell_type": "markdown",
      "metadata": {
        "id": "mnlsR1EIEmmC",
        "colab_type": "text"
      },
      "source": [
        "The model does a little bit better with a predicting the metascore as its predicted metascore is 49.176, but its actual metascore is 48. "
      ]
    },
    {
      "cell_type": "markdown",
      "metadata": {
        "id": "JRJCtEZETzle",
        "colab_type": "text"
      },
      "source": [
        "# Summary"
      ]
    },
    {
      "cell_type": "markdown",
      "metadata": {
        "id": "fby8qTSqT67Z",
        "colab_type": "text"
      },
      "source": [
        "##Best Feature Sets:\n",
        "  Linear Regression(metascore): [votes, year, description]</br>\n",
        "  Linear Regression(star-rating): [votes, year, description] </br>\n",
        "  KNearest(metascore): [votes, year]</br>\n",
        "  KNearest(star-rating): [votes, year, description]</br>\n",
        "  Lasso(metascore): [votes, year, description]</br>\n",
        "  Lasso(star-rating): [votes, year, description]</br>"
      ]
    },
    {
      "cell_type": "markdown",
      "metadata": {
        "id": "24rjAo9lVWUC",
        "colab_type": "text"
      },
      "source": [
        "## RMSE Scores\n",
        "Linear Regression(metascore): 16.972</br>\n",
        "  Linear Regression(star-rating): 0.827 </br>\n",
        "  KNearest(metascore): 18.015</br>\n",
        "  KNearest(star-rating): 1.064</br>\n",
        "  Lasso(metascore): 15.215</br>\n",
        "  Lasso(star-rating): 1.588</br>\n",
        "  Stacking(metascore): 16.041</br>\n",
        "  Stacking(star-rating): 1.286</br>"
      ]
    },
    {
      "cell_type": "markdown",
      "metadata": {
        "id": "cwu3Uuip2Otf",
        "colab_type": "text"
      },
      "source": [
        "In conclusion, the Lasso model was the best predictor for metascore and the Linear regression model was the best predictor for star-rating. "
      ]
    }
  ]
}